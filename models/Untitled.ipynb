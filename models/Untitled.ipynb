{
 "cells": [
  {
   "cell_type": "code",
   "execution_count": 1,
   "id": "c06af908",
   "metadata": {},
   "outputs": [],
   "source": [
    "import pandas as pd\n",
    "import numpy as np\n",
    "import fasttext as ft\n",
    "import seaborn as sns\n",
    "import matplotlib.pyplot as plt\n",
    "import spacy\n",
    "from tqdm.notebook import tqdm"
   ]
  },
  {
   "cell_type": "code",
   "execution_count": 2,
   "id": "854b63af",
   "metadata": {},
   "outputs": [
    {
     "data": {
      "text/html": [
       "<div>\n",
       "<style scoped>\n",
       "    .dataframe tbody tr th:only-of-type {\n",
       "        vertical-align: middle;\n",
       "    }\n",
       "\n",
       "    .dataframe tbody tr th {\n",
       "        vertical-align: top;\n",
       "    }\n",
       "\n",
       "    .dataframe thead th {\n",
       "        text-align: right;\n",
       "    }\n",
       "</style>\n",
       "<table border=\"1\" class=\"dataframe\">\n",
       "  <thead>\n",
       "    <tr style=\"text-align: right;\">\n",
       "      <th></th>\n",
       "      <th>Q</th>\n",
       "      <th>C1</th>\n",
       "      <th>C2</th>\n",
       "    </tr>\n",
       "  </thead>\n",
       "  <tbody>\n",
       "    <tr>\n",
       "      <th>0</th>\n",
       "      <td>How did serfdom develop in and then leave Russ...</td>\n",
       "      <td>DESCRIPTION</td>\n",
       "      <td>manner</td>\n",
       "    </tr>\n",
       "    <tr>\n",
       "      <th>1</th>\n",
       "      <td>What films featured the character Popeye Doyle ?</td>\n",
       "      <td>ENTITY</td>\n",
       "      <td>cremat</td>\n",
       "    </tr>\n",
       "    <tr>\n",
       "      <th>2</th>\n",
       "      <td>How can I find a list of celebrities ' real na...</td>\n",
       "      <td>DESCRIPTION</td>\n",
       "      <td>manner</td>\n",
       "    </tr>\n",
       "    <tr>\n",
       "      <th>3</th>\n",
       "      <td>What fowl grabs the spotlight after the Chines...</td>\n",
       "      <td>ENTITY</td>\n",
       "      <td>animal</td>\n",
       "    </tr>\n",
       "    <tr>\n",
       "      <th>4</th>\n",
       "      <td>What is the full form of .com ?</td>\n",
       "      <td>ABBREVIATION</td>\n",
       "      <td>exp</td>\n",
       "    </tr>\n",
       "    <tr>\n",
       "      <th>...</th>\n",
       "      <td>...</td>\n",
       "      <td>...</td>\n",
       "      <td>...</td>\n",
       "    </tr>\n",
       "    <tr>\n",
       "      <th>5447</th>\n",
       "      <td>What 's the shape of a camel 's spine ?</td>\n",
       "      <td>ENTITY</td>\n",
       "      <td>other</td>\n",
       "    </tr>\n",
       "    <tr>\n",
       "      <th>5448</th>\n",
       "      <td>What type of currency is used in China ?</td>\n",
       "      <td>ENTITY</td>\n",
       "      <td>currency</td>\n",
       "    </tr>\n",
       "    <tr>\n",
       "      <th>5449</th>\n",
       "      <td>What is the temperature today ?</td>\n",
       "      <td>NUMERIC</td>\n",
       "      <td>temp</td>\n",
       "    </tr>\n",
       "    <tr>\n",
       "      <th>5450</th>\n",
       "      <td>What is the temperature for cooking ?</td>\n",
       "      <td>NUMERIC</td>\n",
       "      <td>temp</td>\n",
       "    </tr>\n",
       "    <tr>\n",
       "      <th>5451</th>\n",
       "      <td>What currency is used in Australia ?</td>\n",
       "      <td>ENTITY</td>\n",
       "      <td>currency</td>\n",
       "    </tr>\n",
       "  </tbody>\n",
       "</table>\n",
       "<p>5452 rows × 3 columns</p>\n",
       "</div>"
      ],
      "text/plain": [
       "                                                      Q            C1  \\\n",
       "0     How did serfdom develop in and then leave Russ...   DESCRIPTION   \n",
       "1      What films featured the character Popeye Doyle ?        ENTITY   \n",
       "2     How can I find a list of celebrities ' real na...   DESCRIPTION   \n",
       "3     What fowl grabs the spotlight after the Chines...        ENTITY   \n",
       "4                       What is the full form of .com ?  ABBREVIATION   \n",
       "...                                                 ...           ...   \n",
       "5447            What 's the shape of a camel 's spine ?        ENTITY   \n",
       "5448           What type of currency is used in China ?        ENTITY   \n",
       "5449                    What is the temperature today ?       NUMERIC   \n",
       "5450              What is the temperature for cooking ?       NUMERIC   \n",
       "5451               What currency is used in Australia ?        ENTITY   \n",
       "\n",
       "            C2  \n",
       "0       manner  \n",
       "1       cremat  \n",
       "2       manner  \n",
       "3       animal  \n",
       "4          exp  \n",
       "...        ...  \n",
       "5447     other  \n",
       "5448  currency  \n",
       "5449      temp  \n",
       "5450      temp  \n",
       "5451  currency  \n",
       "\n",
       "[5452 rows x 3 columns]"
      ]
     },
     "execution_count": 2,
     "metadata": {},
     "output_type": "execute_result"
    }
   ],
   "source": [
    "df = pd.read_csv(\"../Datasets/Question_Classification_Dataset.csv\")\n",
    "df = df.drop([\"Unnamed: 0\", \"Category1\"], axis=1)\n",
    "df.columns = [\"Q\", \"C1\", \"C2\"]\n",
    "df"
   ]
  },
  {
   "cell_type": "code",
   "execution_count": 3,
   "id": "2d1cc40e",
   "metadata": {},
   "outputs": [
    {
     "name": "stdout",
     "output_type": "stream",
     "text": [
      "<class 'pandas.core.frame.DataFrame'>\n",
      "RangeIndex: 5452 entries, 0 to 5451\n",
      "Data columns (total 3 columns):\n",
      " #   Column  Non-Null Count  Dtype \n",
      "---  ------  --------------  ----- \n",
      " 0   Q       5452 non-null   object\n",
      " 1   C1      5452 non-null   object\n",
      " 2   C2      5452 non-null   object\n",
      "dtypes: object(3)\n",
      "memory usage: 127.9+ KB\n"
     ]
    }
   ],
   "source": [
    "df.info()"
   ]
  },
  {
   "cell_type": "markdown",
   "id": "0ec3c0d8",
   "metadata": {},
   "source": [
    "## Exploratory data analysis"
   ]
  },
  {
   "cell_type": "code",
   "execution_count": 4,
   "id": "be0e6d3f",
   "metadata": {},
   "outputs": [
    {
     "data": {
      "text/html": [
       "<div>\n",
       "<style scoped>\n",
       "    .dataframe tbody tr th:only-of-type {\n",
       "        vertical-align: middle;\n",
       "    }\n",
       "\n",
       "    .dataframe tbody tr th {\n",
       "        vertical-align: top;\n",
       "    }\n",
       "\n",
       "    .dataframe thead th {\n",
       "        text-align: right;\n",
       "    }\n",
       "</style>\n",
       "<table border=\"1\" class=\"dataframe\">\n",
       "  <thead>\n",
       "    <tr style=\"text-align: right;\">\n",
       "      <th></th>\n",
       "      <th>Q</th>\n",
       "      <th>C1</th>\n",
       "      <th>C2</th>\n",
       "    </tr>\n",
       "  </thead>\n",
       "  <tbody>\n",
       "    <tr>\n",
       "      <th>count</th>\n",
       "      <td>5452</td>\n",
       "      <td>5452</td>\n",
       "      <td>5452</td>\n",
       "    </tr>\n",
       "    <tr>\n",
       "      <th>unique</th>\n",
       "      <td>5381</td>\n",
       "      <td>6</td>\n",
       "      <td>47</td>\n",
       "    </tr>\n",
       "    <tr>\n",
       "      <th>top</th>\n",
       "      <td>What is the speed of the Mississippi River ?</td>\n",
       "      <td>ENTITY</td>\n",
       "      <td>ind</td>\n",
       "    </tr>\n",
       "    <tr>\n",
       "      <th>freq</th>\n",
       "      <td>3</td>\n",
       "      <td>1250</td>\n",
       "      <td>962</td>\n",
       "    </tr>\n",
       "  </tbody>\n",
       "</table>\n",
       "</div>"
      ],
      "text/plain": [
       "                                                   Q      C1    C2\n",
       "count                                           5452    5452  5452\n",
       "unique                                          5381       6    47\n",
       "top     What is the speed of the Mississippi River ?  ENTITY   ind\n",
       "freq                                               3    1250   962"
      ]
     },
     "execution_count": 4,
     "metadata": {},
     "output_type": "execute_result"
    }
   ],
   "source": [
    "df.describe()"
   ]
  },
  {
   "cell_type": "code",
   "execution_count": 5,
   "id": "aa7cf64b",
   "metadata": {},
   "outputs": [
    {
     "name": "stderr",
     "output_type": "stream",
     "text": [
      "C:\\Users\\angai\\anaconda3\\lib\\site-packages\\seaborn\\_decorators.py:36: FutureWarning: Pass the following variable as a keyword arg: x. From version 0.12, the only valid positional argument will be `data`, and passing other arguments without an explicit keyword will result in an error or misinterpretation.\n",
      "  warnings.warn(\n"
     ]
    },
    {
     "data": {
      "text/plain": [
       "<AxesSubplot:xlabel='C1', ylabel='count'>"
      ]
     },
     "execution_count": 5,
     "metadata": {},
     "output_type": "execute_result"
    },
    {
     "data": {
      "image/png": "[encoded data removed]",
      "text/plain": [
       "<Figure size 432x288 with 1 Axes>"
      ]
     },
     "metadata": {
      "needs_background": "light"
     },
     "output_type": "display_data"
    }
   ],
   "source": [
    "sns.countplot(df.C1)"
   ]
  },
  {
   "cell_type": "code",
   "execution_count": 6,
   "id": "c16dcc65",
   "metadata": {},
   "outputs": [
    {
     "data": {
      "text/plain": [
       "ind          962\n",
       "other        733\n",
       "def          421\n",
       "count        363\n",
       "desc         321\n",
       "manner       276\n",
       "date         218\n",
       "cremat       207\n",
       "reason       191\n",
       "gr           189\n",
       "country      155\n",
       "city         129\n",
       "animal       112\n",
       "dismed       103\n",
       "food         103\n",
       "termeq        93\n",
       "period        75\n",
       "money         71\n",
       "exp           70\n",
       "state         66\n",
       "sport         62\n",
       "event         56\n",
       "product       42\n",
       "substance     41\n",
       "color         40\n",
       "techmeth      38\n",
       "dist          34\n",
       "veh           27\n",
       "perc          27\n",
       "word          26\n",
       "title         25\n",
       "mount         21\n",
       "body          16\n",
       "abb           16\n",
       "lang          16\n",
       "volsize       13\n",
       "plant         13\n",
       "weight        11\n",
       "symbol        11\n",
       "instru        10\n",
       "code           9\n",
       "speed          9\n",
       "letter         9\n",
       "temp           8\n",
       "ord            6\n",
       "currency       4\n",
       "religion       4\n",
       "Name: C2, dtype: int64"
      ]
     },
     "execution_count": 6,
     "metadata": {},
     "output_type": "execute_result"
    }
   ],
   "source": [
    "# sns.countplot(df.C2)\n",
    "df[\"C2\"].value_counts()"
   ]
  },
  {
   "cell_type": "code",
   "execution_count": 7,
   "id": "45bc4d19",
   "metadata": {},
   "outputs": [
    {
     "data": {
      "text/plain": [
       "Q     0\n",
       "C1    0\n",
       "C2    0\n",
       "dtype: int64"
      ]
     },
     "execution_count": 7,
     "metadata": {},
     "output_type": "execute_result"
    }
   ],
   "source": [
    "df.isnull().sum()"
   ]
  },
  {
   "cell_type": "code",
   "execution_count": 8,
   "id": "14eb1d36",
   "metadata": {},
   "outputs": [
    {
     "data": {
      "text/html": [
       "<div>\n",
       "<style scoped>\n",
       "    .dataframe tbody tr th:only-of-type {\n",
       "        vertical-align: middle;\n",
       "    }\n",
       "\n",
       "    .dataframe tbody tr th {\n",
       "        vertical-align: top;\n",
       "    }\n",
       "\n",
       "    .dataframe thead th {\n",
       "        text-align: right;\n",
       "    }\n",
       "</style>\n",
       "<table border=\"1\" class=\"dataframe\">\n",
       "  <thead>\n",
       "    <tr style=\"text-align: right;\">\n",
       "      <th></th>\n",
       "      <th>Q</th>\n",
       "      <th>C1</th>\n",
       "      <th>C2</th>\n",
       "    </tr>\n",
       "  </thead>\n",
       "  <tbody>\n",
       "    <tr>\n",
       "      <th>0</th>\n",
       "      <td>How did serfdom develop in and then leave Russ...</td>\n",
       "      <td>DESCRIPTION</td>\n",
       "      <td>manner</td>\n",
       "    </tr>\n",
       "    <tr>\n",
       "      <th>1</th>\n",
       "      <td>What films featured the character Popeye Doyle ?</td>\n",
       "      <td>ENTITY</td>\n",
       "      <td>cremat</td>\n",
       "    </tr>\n",
       "    <tr>\n",
       "      <th>2</th>\n",
       "      <td>How can I find a list of celebrities ' real na...</td>\n",
       "      <td>DESCRIPTION</td>\n",
       "      <td>manner</td>\n",
       "    </tr>\n",
       "    <tr>\n",
       "      <th>3</th>\n",
       "      <td>What fowl grabs the spotlight after the Chines...</td>\n",
       "      <td>ENTITY</td>\n",
       "      <td>animal</td>\n",
       "    </tr>\n",
       "    <tr>\n",
       "      <th>4</th>\n",
       "      <td>What is the full form of .com ?</td>\n",
       "      <td>ABBREVIATION</td>\n",
       "      <td>exp</td>\n",
       "    </tr>\n",
       "    <tr>\n",
       "      <th>...</th>\n",
       "      <td>...</td>\n",
       "      <td>...</td>\n",
       "      <td>...</td>\n",
       "    </tr>\n",
       "    <tr>\n",
       "      <th>5447</th>\n",
       "      <td>What 's the shape of a camel 's spine ?</td>\n",
       "      <td>ENTITY</td>\n",
       "      <td>other</td>\n",
       "    </tr>\n",
       "    <tr>\n",
       "      <th>5448</th>\n",
       "      <td>What type of currency is used in China ?</td>\n",
       "      <td>ENTITY</td>\n",
       "      <td>currency</td>\n",
       "    </tr>\n",
       "    <tr>\n",
       "      <th>5449</th>\n",
       "      <td>What is the temperature today ?</td>\n",
       "      <td>NUMERIC</td>\n",
       "      <td>temp</td>\n",
       "    </tr>\n",
       "    <tr>\n",
       "      <th>5450</th>\n",
       "      <td>What is the temperature for cooking ?</td>\n",
       "      <td>NUMERIC</td>\n",
       "      <td>temp</td>\n",
       "    </tr>\n",
       "    <tr>\n",
       "      <th>5451</th>\n",
       "      <td>What currency is used in Australia ?</td>\n",
       "      <td>ENTITY</td>\n",
       "      <td>currency</td>\n",
       "    </tr>\n",
       "  </tbody>\n",
       "</table>\n",
       "<p>5382 rows × 3 columns</p>\n",
       "</div>"
      ],
      "text/plain": [
       "                                                      Q            C1  \\\n",
       "0     How did serfdom develop in and then leave Russ...   DESCRIPTION   \n",
       "1      What films featured the character Popeye Doyle ?        ENTITY   \n",
       "2     How can I find a list of celebrities ' real na...   DESCRIPTION   \n",
       "3     What fowl grabs the spotlight after the Chines...        ENTITY   \n",
       "4                       What is the full form of .com ?  ABBREVIATION   \n",
       "...                                                 ...           ...   \n",
       "5447            What 's the shape of a camel 's spine ?        ENTITY   \n",
       "5448           What type of currency is used in China ?        ENTITY   \n",
       "5449                    What is the temperature today ?       NUMERIC   \n",
       "5450              What is the temperature for cooking ?       NUMERIC   \n",
       "5451               What currency is used in Australia ?        ENTITY   \n",
       "\n",
       "            C2  \n",
       "0       manner  \n",
       "1       cremat  \n",
       "2       manner  \n",
       "3       animal  \n",
       "4          exp  \n",
       "...        ...  \n",
       "5447     other  \n",
       "5448  currency  \n",
       "5449      temp  \n",
       "5450      temp  \n",
       "5451  currency  \n",
       "\n",
       "[5382 rows x 3 columns]"
      ]
     },
     "execution_count": 8,
     "metadata": {},
     "output_type": "execute_result"
    }
   ],
   "source": [
    "df.drop_duplicates()"
   ]
  },
  {
   "cell_type": "code",
   "execution_count": 58,
   "id": "13c76f56",
   "metadata": {},
   "outputs": [],
   "source": [
    "import re\n",
    "def preprocess(text):\n",
    "    text = re.sub(r'\\([\\w]\\)','', text)\n",
    "    text = re.sub(r'[^\\w\\s\\']',' ', text)\n",
    "    # Replace all the white spaces, punctuations with a single space\n",
    "    text = re.sub(r'[ \\n]+', ' ', text)\n",
    "    if \"'s\" in text:\n",
    "        text = text.replace(\" 's\", \"'s\", text.count(\"'s\")) \n",
    "        text = text[:-2]\n",
    "    # Replace all multiple spaces and \\n characters with a single space\n",
    "    return text.strip().lower()\n",
    "    "
   ]
  },
  {
   "cell_type": "code",
   "execution_count": 11,
   "id": "a4da6f01",
   "metadata": {},
   "outputs": [],
   "source": [
    "df[\"Q\"] = df[\"Q\"].apply(preprocess)"
   ]
  },
  {
   "cell_type": "code",
   "execution_count": 12,
   "id": "ee55ecf8",
   "metadata": {},
   "outputs": [],
   "source": [
    "def lemmatize(text):\n",
    "    nlp = spacy.load(\"en_core_web_sm\")\n",
    "    doc = nlp(text)\n",
    "    l = []\n",
    "    for word in doc:\n",
    "        if word.is_punct:\n",
    "            pass\n",
    "        else:\n",
    "            l.append(word.lemma_)\n",
    "    return \" \".join(l)\n",
    "            "
   ]
  },
  {
   "cell_type": "code",
   "execution_count": 13,
   "id": "2dd32d05",
   "metadata": {},
   "outputs": [
    {
     "data": {
      "application/vnd.jupyter.widget-view+json": {
       "model_id": "245d59d8d46c44feb31b644c73e91c43",
       "version_major": 2,
       "version_minor": 0
      },
      "text/plain": [
       "  0%|          | 0/5452 [00:00<?, ?it/s]"
      ]
     },
     "metadata": {},
     "output_type": "display_data"
    }
   ],
   "source": [
    "tqdm.pandas()\n",
    "df[\"Q\"] = df[\"Q\"].progress_apply(lemmatize)"
   ]
  },
  {
   "cell_type": "code",
   "execution_count": 15,
   "id": "9c9eebdb",
   "metadata": {},
   "outputs": [],
   "source": [
    "df[\"desc_C1\"] = \"__label__\" + df[\"C1\"] + \" \" + df[\"Q\"]\n",
    "df[\"desc_C2\"] = \"__label__\" + df[\"C2\"] + \" \" + df[\"Q\"]"
   ]
  },
  {
   "cell_type": "code",
   "execution_count": 17,
   "id": "fa79894b",
   "metadata": {},
   "outputs": [],
   "source": [
    "from sklearn.model_selection import train_test_split\n",
    "train1, test1 = train_test_split(df[\"desc_C1\"], test_size=0.3, random_state=42)\n",
    "train2, test2 = train_test_split(df[\"desc_C2\"], test_size=0.3, random_state=42)"
   ]
  },
  {
   "cell_type": "code",
   "execution_count": 18,
   "id": "eb51a6ec",
   "metadata": {},
   "outputs": [
    {
     "data": {
      "text/plain": [
       "3383    __label__HUMAN who share a new york city apart...\n",
       "618     __label__HUMAN what first name be nipsy russel...\n",
       "4677    __label__ENTITY what be the main language of s...\n",
       "2881               __label__DESCRIPTION what be a conifer\n",
       "124     __label__DESCRIPTION how do chicken have baby ...\n",
       "                              ...                        \n",
       "3772    __label__NUMERIC how much coca cola be drunk i...\n",
       "5191    __label__LOCATION what cathedral be thomas bec...\n",
       "5226    __label__HUMAN what character in the beverly h...\n",
       "5390    __label__LOCATION what do the river seine empt...\n",
       "860     __label__HUMAN what u s congressman say keep t...\n",
       "Name: desc_C1, Length: 3816, dtype: object"
      ]
     },
     "execution_count": 18,
     "metadata": {},
     "output_type": "execute_result"
    }
   ],
   "source": []
  },
  {
   "cell_type": "code",
   "execution_count": 19,
   "id": "f3ff5dad",
   "metadata": {},
   "outputs": [],
   "source": [
    "train1.to_csv(\"../Datasets/Questions.train_C1\", \n",
    "             index=False, header=None)\n",
    "train2.to_csv(\"../Datasets/Questions.train_C2\", \n",
    "             index=False, header=None)\n",
    "test1.to_csv(\"../Datasets/Questions.test_C1\", \n",
    "             index=False, header=None)\n",
    "test2.to_csv(\"../Datasets/Questions.test_C2\", \n",
    "             index=False, header=None)"
   ]
  },
  {
   "cell_type": "code",
   "execution_count": 20,
   "id": "53fde7c6",
   "metadata": {},
   "outputs": [],
   "source": [
    "model1 = ft.train_supervised(input = \"../Datasets/Questions.train_C1\")"
   ]
  },
  {
   "cell_type": "code",
   "execution_count": 21,
   "id": "458f5e09",
   "metadata": {},
   "outputs": [],
   "source": [
    "model2 = ft.train_supervised(input = \"../Datasets/Questions.train_C2\")"
   ]
  },
  {
   "cell_type": "code",
   "execution_count": 22,
   "id": "1ca919de",
   "metadata": {},
   "outputs": [
    {
     "data": {
      "text/plain": [
       "(1636, 0.7591687041564792, 0.7591687041564792)"
      ]
     },
     "execution_count": 22,
     "metadata": {},
     "output_type": "execute_result"
    }
   ],
   "source": [
    "model1.test(\"../Datasets/Questions.test_C1\")"
   ]
  },
  {
   "cell_type": "code",
   "execution_count": 23,
   "id": "a3599b34",
   "metadata": {},
   "outputs": [
    {
     "data": {
      "text/plain": [
       "(1636, 0.41687041564792177, 0.41687041564792177)"
      ]
     },
     "execution_count": 23,
     "metadata": {},
     "output_type": "execute_result"
    }
   ],
   "source": [
    "model2.test(\"../Datasets/Questions.test_C2\")"
   ]
  },
  {
   "cell_type": "code",
   "execution_count": 36,
   "id": "cc450817",
   "metadata": {},
   "outputs": [
    {
     "data": {
      "text/plain": [
       "(('__label__other',), array([0.17273194]))"
      ]
     },
     "execution_count": 36,
     "metadata": {},
     "output_type": "execute_result"
    }
   ],
   "source": [
    "text = \"what is the full form of com\"\n",
    "text = lemmatize(preprocess(text))\n",
    "model2.predict(text)"
   ]
  },
  {
   "cell_type": "code",
   "execution_count": 37,
   "id": "db38ee4e",
   "metadata": {},
   "outputs": [],
   "source": [
    "# df[\"len\"] = df[\"Q\"].apply(lambda x : len(x))"
   ]
  },
  {
   "cell_type": "code",
   "execution_count": 41,
   "id": "bd75ecfa",
   "metadata": {},
   "outputs": [],
   "source": [
    "model1.save_model(\"../Datasets/Model_C1\")\n",
    "model2.save_model(\"../Datasets/Model_C2\")"
   ]
  },
  {
   "cell_type": "code",
   "execution_count": null,
   "id": "bea84b88",
   "metadata": {},
   "outputs": [],
   "source": []
  },
  {
   "cell_type": "code",
   "execution_count": null,
   "id": "b864ace5",
   "metadata": {},
   "outputs": [],
   "source": []
  },
  {
   "cell_type": "code",
   "execution_count": null,
   "id": "594b903c",
   "metadata": {},
   "outputs": [],
   "source": []
  }
 ],
 "metadata": {
  "kernelspec": {
   "display_name": "Python 3",
   "language": "python",
   "name": "python3"
  },
  "language_info": {
   "codemirror_mode": {
    "name": "ipython",
    "version": 3
   },
   "file_extension": ".py",
   "mimetype": "text/x-python",
   "name": "python",
   "nbconvert_exporter": "python",
   "pygments_lexer": "ipython3",
   "version": "3.8.8"
  }
 },
 "nbformat": 4,
 "nbformat_minor": 5
}
